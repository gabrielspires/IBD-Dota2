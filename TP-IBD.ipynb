{
 "cells": [
  {
   "cell_type": "markdown",
   "metadata": {},
   "source": [
    "# TP de IBD - Dota 2"
   ]
  },
  {
   "cell_type": "markdown",
   "metadata": {},
   "source": [
    "# Table of Contents\n",
    "1. [Diagrama entidade-relacionamento](#Diagrama-entidade-relacionamento)\n",
    "2. [Esquema relacional](#Esquema-relacional)\n",
    "3. [Dados](#Dados)\n",
    "4. [Criação do banco de dados](#Criação-do-BD)"
   ]
  },
  {
   "cell_type": "markdown",
   "metadata": {},
   "source": [
    "# Especificação\n",
    "\n",
    "https://homepages.dcc.ufmg.br/~mirella/DCC011/aula19-TPfinal.pdf\n",
    "\n",
    "### Cada grupo deverá escolher entre:\n",
    "* ~~i.um conjunto de dados do portal http://dados.gov.br~~\n",
    "* ✔️ ii.um conjunto de dados real que possa ser coletado da Web (e.g, twitter, imdb, github, dblp, etc)\n",
    "* ~~iii.uma aplicação atual ou inovadora para a qual dados sintéticos possam ser gerados~~\n",
    "\n",
    "### Itens a serem apresentados:\n",
    "\n",
    "* Diagrama entidade-relacionamento\n",
    "    * Pelo menos 4 tipos de entidade, cada tipo com ao menos 2 atributos (além de atributo identificador)\n",
    "    * Pelo menos 3 tipos de relacionamento, ao menos um com cardinalidadeM:N\n",
    "    * Pode ser necessário alterar os dados originais para atender a esses requisitos\n",
    "* Esquema relacional\n",
    "* Dados inseridos\n",
    "* Consultas realizadas\n",
    "    * Deverão ser especificadas e executadas um total de 10 consultas em SQL, sendo:\n",
    "        * 2 operações de seleção e projeção \n",
    "        * 3 junção de duas relações \n",
    "        * 3 junção de três ou mais relações \n",
    "        * 2 funções de agregação sobre o resultado da junção de pelo menos duas relações Descrição textual + comando SQL (+resultado)\n",
    "\n",
    "### Características avançadas\n",
    "\n",
    "* A segunda metade da avaliação deste trabalho considera **três dessas quatro** opções:\n",
    "\n",
    "    * avaliação de eficiência das consultas (cada uma das 10 consultas especificadas é formulada de pelo menos 2 formas) \n",
    "    * ii.dados e consultas mais interessantes, com dados de tipo não-convencional\n",
    "    * iii.mais três consultas do tipo relatório \n",
    "    * iv.interface gráfica (e.g., um website) para visualização interativados dados  NOTA: pontos extras se o grupo optar por realizar as quatro opções\n",
    "    \n",
    "### Relatório final 26/11\n",
    "\n",
    "* O relatório final deve conter: \n",
    "    * Descrição textual do banco de dados\n",
    "    * Diagramas ER e Relacional\n",
    "    * Consultas realizadas com explicação textual e respectivo comando SQL\n",
    "    * Descrição das atividades realizadas individualmente por participante do grupo.\n",
    "\n",
    "**04/12**: Última chance para entregar o relatório (com possíveis correções e complementações, e.g., interface).\n",
    "\n",
    "### Apresentação 27 e 29/11\n",
    "\n",
    "* Cada grupo terá em torno de 10 min (a confirmar, dependendo do número de grupos) para apresentar:\n",
    "    * Tema do trabalho\n",
    "    * Modelagem desenvolvida (conceitual e relacional)\n",
    "    * Uma seleção das várias consultas formuladas e de seus resultados, \n",
    "    * Demonstração da interface (se tiver sido desenvolvida)."
   ]
  },
  {
   "cell_type": "markdown",
   "metadata": {},
   "source": [
    "# Diagrama entidade-relacionamento"
   ]
  },
  {
   "cell_type": "code",
   "execution_count": null,
   "metadata": {},
   "outputs": [],
   "source": []
  },
  {
   "cell_type": "markdown",
   "metadata": {},
   "source": [
    "# Esquema relacional"
   ]
  },
  {
   "cell_type": "code",
   "execution_count": null,
   "metadata": {},
   "outputs": [],
   "source": []
  },
  {
   "cell_type": "markdown",
   "metadata": {},
   "source": [
    "# Imports"
   ]
  },
  {
   "cell_type": "code",
   "execution_count": 1,
   "metadata": {},
   "outputs": [],
   "source": [
    "'''\n",
    "Gabriel Henrique\n",
    "Raydan Gaspar\n",
    "'''\n",
    "\n",
    "import numpy as np\n",
    "import pandas as pd\n",
    "import matplotlib as plt\n",
    "\n",
    "import sqlite3\n",
    "import json\n",
    "\n",
    "# xaa.json tem 791 partidas\n",
    "# amostra.json tem 5 partidas"
   ]
  },
  {
   "cell_type": "markdown",
   "metadata": {},
   "source": [
    "# Dados"
   ]
  },
  {
   "cell_type": "code",
   "execution_count": 2,
   "metadata": {},
   "outputs": [],
   "source": [
    "with open('amostra.json', 'r') as game_data:\n",
    "    json_data = json.load(game_data)"
   ]
  },
  {
   "cell_type": "markdown",
   "metadata": {},
   "source": [
    "# Criação do BD"
   ]
  },
  {
   "cell_type": "code",
   "execution_count": 3,
   "metadata": {},
   "outputs": [],
   "source": [
    "# Converter os dados do json pra sqlite (criar o banco, as tabelas e inserir os dados)"
   ]
  },
  {
   "cell_type": "markdown",
   "metadata": {},
   "source": [
    "#### ..."
   ]
  },
  {
   "cell_type": "code",
   "execution_count": 4,
   "metadata": {},
   "outputs": [
    {
     "name": "stdout",
     "output_type": "stream",
     "text": [
      "Colunas:\n",
      "\n",
      "match_id\n",
      "match_seq_num\n",
      "radiant_win\n",
      "start_time\n",
      "duration\n",
      "tower_status_radiant\n",
      "tower_status_dire\n",
      "barracks_status_radiant\n",
      "barracks_status_dire\n",
      "cluster\n",
      "first_blood_time\n",
      "lobby_type\n",
      "human_players\n",
      "leagueid\n",
      "positive_votes\n",
      "negative_votes\n",
      "game_mode\n",
      "engine\n",
      "picks_bans\n",
      "parse_status\n",
      "chat\n",
      "\t time\n",
      "\t type\n",
      "\t unit\n",
      "\t key\n",
      "\t slot\n",
      "\n",
      "objectives\n",
      "\t time\n",
      "\t type\n",
      "\t value\n",
      "\t player1\n",
      "\t player2\n",
      "\t slot\n",
      "\n",
      "radiant_gold_adv\n",
      "radiant_xp_adv\n",
      "teamfights\n",
      "\t start\n",
      "\t end\n",
      "\t last_death\n",
      "\t deaths\n",
      "\t players\n",
      "\n",
      "version\n",
      "players\n",
      "\t account_id\n",
      "\t player_slot\n",
      "\t hero_id\n",
      "\t item_0\n",
      "\t item_1\n",
      "\t item_2\n",
      "\t item_3\n",
      "\t item_4\n",
      "\t item_5\n",
      "\t kills\n",
      "\t deaths\n",
      "\t assists\n",
      "\t leaver_status\n",
      "\t gold\n",
      "\t last_hits\n",
      "\t denies\n",
      "\t gold_per_min\n",
      "\t xp_per_min\n",
      "\t gold_spent\n",
      "\t hero_damage\n",
      "\t tower_damage\n",
      "\t hero_healing\n",
      "\t level\n",
      "\t ability_upgrades\n",
      "\t additional_units\n",
      "\t stuns\n",
      "\t max_hero_hit\n",
      "\t times\n",
      "\t gold_t\n",
      "\t lh_t\n",
      "\t xp_t\n",
      "\t obs_log\n",
      "\t sen_log\n",
      "\t purchase_log\n",
      "\t kills_log\n",
      "\t buyback_log\n",
      "\t lane_pos\n",
      "\t obs\n",
      "\t sen\n",
      "\t actions\n",
      "\t pings\n",
      "\t purchase\n",
      "\t gold_reasons\n",
      "\t xp_reasons\n",
      "\t killed\n",
      "\t item_uses\n",
      "\t ability_uses\n",
      "\t hero_hits\n",
      "\t damage\n",
      "\t damage_taken\n",
      "\t damage_inflictor\n",
      "\t runes\n",
      "\t killed_by\n",
      "\t modifier_applied\n",
      "\t kill_streaks\n",
      "\t multi_kills\n",
      "\t healing\n",
      "\n"
     ]
    }
   ],
   "source": [
    "print(\"Colunas:\\n\")\n",
    "\n",
    "for match in json_data:\n",
    "    for column in match:\n",
    "        print(column)\n",
    "        if isinstance(match[column], list):\n",
    "            for sub_column in match[column]:\n",
    "                if isinstance(sub_column, dict):\n",
    "                    for key in sub_column:\n",
    "                        print('\\t', key)\n",
    "                    print()\n",
    "                    break\n",
    "        \n",
    "    break\n",
    "        \n",
    "# Lembrando que vários atributos listados tem mais \"sub-atributos\", vale a pena olhar o arquivo amostra.json"
   ]
  }
 ],
 "metadata": {
  "kernelspec": {
   "display_name": "Python 3",
   "language": "python",
   "name": "python3"
  },
  "language_info": {
   "codemirror_mode": {
    "name": "ipython",
    "version": 3
   },
   "file_extension": ".py",
   "mimetype": "text/x-python",
   "name": "python",
   "nbconvert_exporter": "python",
   "pygments_lexer": "ipython3",
   "version": "3.6.7"
  }
 },
 "nbformat": 4,
 "nbformat_minor": 2
}
