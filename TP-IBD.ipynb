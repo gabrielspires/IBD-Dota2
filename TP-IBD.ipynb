{
 "cells": [
  {
   "cell_type": "markdown",
   "metadata": {},
   "source": [
    "# TP de IBD - Dota 2"
   ]
  },
  {
   "cell_type": "markdown",
   "metadata": {},
   "source": [
    "# Table of Contents\n",
    "1. [Diagrama entidade-relacionamento](#Diagrama-entidade-relacionamento)\n",
    "2. [Esquema relacional](#Esquema-relacional)\n",
    "3. [Dados](#Dados)\n",
    "4. [Criação do banco de dados](#Criação-do-BD)"
   ]
  },
  {
   "cell_type": "markdown",
   "metadata": {},
   "source": [
    "# Especificação\n",
    "\n",
    "https://homepages.dcc.ufmg.br/~mirella/DCC011/aula19-TPfinal.pdf\n",
    "\n",
    "### Cada grupo deverá escolher entre:\n",
    "* ~~i.um conjunto de dados do portal http://dados.gov.br~~\n",
    "* ✔️ ii.um conjunto de dados real que possa ser coletado da Web (e.g, twitter, imdb, github, dblp, etc)\n",
    "* ~~iii.uma aplicação atual ou inovadora para a qual dados sintéticos possam ser gerados~~\n",
    "\n",
    "### Itens a serem apresentados:\n",
    "\n",
    "* Diagrama entidade-relacionamento\n",
    "    * Pelo menos 4 tipos de entidade, cada tipo com ao menos 2 atributos (além de atributo identificador)\n",
    "    * Pelo menos 3 tipos de relacionamento, ao menos um com cardinalidadeM:N\n",
    "    * Pode ser necessário alterar os dados originais para atender a esses requisitos\n",
    "* Esquema relacional\n",
    "* Dados inseridos\n",
    "* Consultas realizadas\n",
    "    * Deverão ser especificadas e executadas um total de 10 consultas em SQL, sendo:\n",
    "        * 2 operações de seleção e projeção \n",
    "        * 3 junção de duas relações \n",
    "        * 3 junção de três ou mais relações \n",
    "        * 2 funções de agregação sobre o resultado da junção de pelo menos duas relações Descrição textual + comando SQL (+resultado)\n",
    "\n",
    "### Características avançadas\n",
    "\n",
    "* A segunda metade da avaliação deste trabalho considera **três dessas quatro** opções:\n",
    "\n",
    "    * avaliação de eficiência das consultas (cada uma das 10 consultas especificadas é formulada de pelo menos 2 formas) \n",
    "    * ii.dados e consultas mais interessantes, com dados de tipo não-convencional\n",
    "    * iii.mais três consultas do tipo relatório \n",
    "    * iv.interface gráfica (e.g., um website) para visualização interativados dados  NOTA: pontos extras se o grupo optar por realizar as quatro opções\n",
    "    \n",
    "### Relatório final 24/06\n",
    "\n",
    "* O relatório final deve conter: \n",
    "    * Descrição textual do banco de dados\n",
    "    * Diagramas ER e Relacional\n",
    "    * Consultas realizadas com explicação textual e respectivo comando SQL\n",
    "    * Descrição das atividades realizadas individualmente por participante do grupo.\n",
    "\n",
    "**03/07**: Última chance para entregar o relatório (com possíveis correções e complementações, e.g., interface).\n",
    "\n",
    "### Apresentação 24 e 26/06\n",
    "\n",
    "* Cada grupo terá em torno de 10 min (a confirmar, dependendo do número de grupos) para apresentar:\n",
    "    * Tema do trabalho\n",
    "    * Modelagem desenvolvida (conceitual e relacional)\n",
    "    * Uma seleção das várias consultas formuladas e de seus resultados, \n",
    "    * Demonstração da interface (se tiver sido desenvolvida)."
   ]
  },
  {
   "cell_type": "markdown",
   "metadata": {},
   "source": [
    "# Diagrama entidade-relacionamento"
   ]
  },
  {
   "cell_type": "code",
   "execution_count": null,
   "metadata": {},
   "outputs": [],
   "source": []
  },
  {
   "cell_type": "markdown",
   "metadata": {},
   "source": [
    "# Esquema relacional"
   ]
  },
  {
   "cell_type": "code",
   "execution_count": null,
   "metadata": {},
   "outputs": [],
   "source": []
  },
  {
   "cell_type": "markdown",
   "metadata": {},
   "source": [
    "# Imports"
   ]
  },
  {
   "cell_type": "code",
   "execution_count": 2,
   "metadata": {},
   "outputs": [],
   "source": [
    "import numpy as np\n",
    "import pandas as pd\n",
    "import matplotlib as plt\n",
    "\n",
    "import sqlite3\n",
    "import json\n",
    "\n",
    "# xaa.json tem 791 partidas\n",
    "# amostra.json tem 5 partidas"
   ]
  },
  {
   "cell_type": "markdown",
   "metadata": {},
   "source": [
    "# Dados"
   ]
  },
  {
   "cell_type": "code",
   "execution_count": 3,
   "metadata": {},
   "outputs": [],
   "source": [
    "with open('amostra.json', 'r') as game_data:\n",
    "    json_data = json.load(game_data)"
   ]
  },
  {
   "cell_type": "markdown",
   "metadata": {},
   "source": [
    "# Criação do BD"
   ]
  },
  {
   "cell_type": "code",
   "execution_count": 3,
   "metadata": {},
   "outputs": [],
   "source": [
    "# Converter os dados do json pra sqlite (criar o banco, as tabelas e inserir os dados)"
   ]
  },
  {
   "cell_type": "markdown",
   "metadata": {},
   "source": [
    "# Inserção dos dados"
   ]
  },
  {
   "cell_type": "code",
   "execution_count": 12,
   "metadata": {},
   "outputs": [
    {
     "name": "stdout",
     "output_type": "stream",
     "text": [
      "2001400694 True 898 2047 2046 63 63 83 7 10 22\n",
      "2001394362 True 1390 1983 256 63 48 2 7 10 22\n",
      "2001390473 False 1569 0 2047 0 63 143 4 5 1\n",
      "2001390318 True 1630 2047 256 63 48 1 4 5 1\n",
      "2001389600 True 1093 2047 388 63 51 138 0 10 18\n"
     ]
    }
   ],
   "source": [
    "#match\n",
    "for match in json_data:\n",
    "    match_id                = match['match_id'] # INT\n",
    "    radiant_win             = match['radiant_win'] # BOOL\n",
    "    duration                = match['duration'] # INT\n",
    "    tower_status_radiant    = match['tower_status_radiant'] # INT (binário em decimal)\n",
    "    tower_status_dire       = match['tower_status_dire'] # INT (binário em decimal)\n",
    "    barracks_status_radiant = match['barracks_status_radiant'] # INT (binário em decimal)\n",
    "    barracks_status_dire    = match['barracks_status_dire'] # INT (binário em decimal)\n",
    "    first_blood_time        = match['first_blood_time'] # INT\n",
    "    lobby_type              = match['lobby_type'] # INT\n",
    "#!!! Pegar os dados do lobby_type.json \n",
    "    human_players           = match['human_players'] # INT\n",
    "    game_mode               = match['game_mode'] # INT\n",
    "#!!! Pegar os dados do game_mode.json\n",
    "    #picks_bans              = match['picks_bans'] # TIRAMOS ISSO\n",
    "    #radiant_xp_adv          = match['radiant_xp_adv'] # TIRAMOS ISSO\n",
    "    #radiant_gold_adv        = match['radiant_gold_adv'] # TIRAMOS ISSO\n",
    "    #print(match_id, radiant_win, duration, tower_status_radiant, tower_status_dire, barracks_status_radiant, \n",
    "    #      barracks_status_dire, first_blood_time, lobby_type, human_players, game_mode)\n",
    "    \n",
    "    # INSERT tudo_isso_em_cima INTO match\n",
    "    \n",
    "#chat        \n",
    "    for chat_message in match['chat']:\n",
    "        chat_match_id = match_id\n",
    "        time  = chat_message['time']\n",
    "        type_ = chat_message['type']\n",
    "        unit  = chat_message['unit']\n",
    "        key   = chat_message['key']\n",
    "        slot  = chat_message['slot']\n",
    "        #print(chat_match_id, time, type_, unit, key, slot)\n",
    "        \n",
    "        # INSERT tudo_isso_em_cima INTO chat\n"
   ]
  }
 ],
 "metadata": {
  "kernelspec": {
   "display_name": "Python 3",
   "language": "python",
   "name": "python3"
  },
  "language_info": {
   "codemirror_mode": {
    "name": "ipython",
    "version": 3
   },
   "file_extension": ".py",
   "mimetype": "text/x-python",
   "name": "python",
   "nbconvert_exporter": "python",
   "pygments_lexer": "ipython3",
   "version": "3.6.7"
  }
 },
 "nbformat": 4,
 "nbformat_minor": 2
}
