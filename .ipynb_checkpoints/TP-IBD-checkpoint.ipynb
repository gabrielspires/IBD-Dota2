{
 "cells": [
  {
   "cell_type": "markdown",
   "metadata": {},
   "source": [
    "# TP de IBD - Dota 2"
   ]
  },
  {
   "cell_type": "markdown",
   "metadata": {},
   "source": [
    "# Table of Contents\n",
    "1. [Diagrama entidade-relacionamento](#Diagrama-entidade-relacionamento)\n",
    "2. [Esquema relacional](#Esquema-relacional)\n",
    "3. [Dados](#Dados)\n",
    "4. [Criação do banco de dados](#Criação-do-BD)"
   ]
  },
  {
   "cell_type": "markdown",
   "metadata": {},
   "source": [
    "# Especificação\n",
    "\n",
    "https://homepages.dcc.ufmg.br/~mirella/DCC011/aula19-TPfinal.pdf\n",
    "\n",
    "### Cada grupo deverá escolher entre:\n",
    "* ~~i.um conjunto de dados do portal http://dados.gov.br~~\n",
    "* ✔️ ii.um conjunto de dados real que possa ser coletado da Web (e.g, twitter, imdb, github, dblp, etc)\n",
    "* ~~iii.uma aplicação atual ou inovadora para a qual dados sintéticos possam ser gerados~~\n",
    "\n",
    "### Itens a serem apresentados:\n",
    "\n",
    "* Diagrama entidade-relacionamento\n",
    "    * Pelo menos 4 tipos de entidade, cada tipo com ao menos 2 atributos (além de atributo identificador)\n",
    "    * Pelo menos 3 tipos de relacionamento, ao menos um com cardinalidadeM:N\n",
    "    * Pode ser necessário alterar os dados originais para atender a esses requisitos\n",
    "* Esquema relacional\n",
    "* Dados inseridos\n",
    "* Consultas realizadas\n",
    "    * Deverão ser especificadas e executadas um total de 10 consultas em SQL, sendo:\n",
    "        * 2 operações de seleção e projeção \n",
    "        * 3 junção de duas relações \n",
    "        * 3 junção de três ou mais relações \n",
    "        * 2 funções de agregação sobre o resultado da junção de pelo menos duas relações Descrição textual + comando SQL (+resultado)\n",
    "\n",
    "### Características avançadas\n",
    "\n",
    "* A segunda metade da avaliação deste trabalho considera **três dessas quatro** opções:\n",
    "\n",
    "    * avaliação de eficiência das consultas (cada uma das 10 consultas especificadas é formulada de pelo menos 2 formas) \n",
    "    * ii.dados e consultas mais interessantes, com dados de tipo não-convencional\n",
    "    * iii.mais três consultas do tipo relatório \n",
    "    * iv.interface gráfica (e.g., um website) para visualização interativados dados  NOTA: pontos extras se o grupo optar por realizar as quatro opções\n",
    "    \n",
    "### Relatório final 24/06\n",
    "\n",
    "* O relatório final deve conter: \n",
    "    * Descrição textual do banco de dados\n",
    "    * Diagramas ER e Relacional\n",
    "    * Consultas realizadas com explicação textual e respectivo comando SQL\n",
    "    * Descrição das atividades realizadas individualmente por participante do grupo.\n",
    "\n",
    "**03/07**: Última chance para entregar o relatório (com possíveis correções e complementações, e.g., interface).\n",
    "\n",
    "### Apresentação 24 e 26/06\n",
    "\n",
    "* Cada grupo terá em torno de 10 min (a confirmar, dependendo do número de grupos) para apresentar:\n",
    "    * Tema do trabalho\n",
    "    * Modelagem desenvolvida (conceitual e relacional)\n",
    "    * Uma seleção das várias consultas formuladas e de seus resultados, \n",
    "    * Demonstração da interface (se tiver sido desenvolvida)."
   ]
  },
  {
   "cell_type": "markdown",
   "metadata": {},
   "source": [
    "# Diagrama entidade-relacionamento"
   ]
  },
  {
   "cell_type": "markdown",
   "metadata": {},
   "source": [
    " ![](DiagramaER/ibd_final2.png)"
   ]
  },
  {
   "cell_type": "markdown",
   "metadata": {},
   "source": [
    "# Esquema relacional"
   ]
  },
  {
   "cell_type": "markdown",
   "metadata": {},
   "source": [
    "![](ModeloER/modelo_er.png)"
   ]
  },
  {
   "cell_type": "markdown",
   "metadata": {},
   "source": [
    "# Imports"
   ]
  },
  {
   "cell_type": "code",
   "execution_count": 26,
   "metadata": {},
   "outputs": [],
   "source": [
    "import numpy as np\n",
    "import pandas as pd\n",
    "import matplotlib as plt\n",
    "import io\n",
    "import sqlite3\n",
    "import json\n",
    "\n",
    "# xaa.json tem 791 partidas\n",
    "# amostra.json tem 5 partidas"
   ]
  },
  {
   "cell_type": "markdown",
   "metadata": {},
   "source": [
    "# Dados"
   ]
  },
  {
   "cell_type": "code",
   "execution_count": 3,
   "metadata": {},
   "outputs": [],
   "source": [
    "with open('amostra.json', 'r') as game_data:\n",
    "    json_data = json.load(game_data)"
   ]
  },
  {
   "cell_type": "markdown",
   "metadata": {},
   "source": [
    "# Criação do BD"
   ]
  },
  {
   "cell_type": "code",
   "execution_count": 30,
   "metadata": {},
   "outputs": [
    {
     "ename": "OperationalError",
     "evalue": "table \"xp_reasons\" already exists",
     "output_type": "error",
     "traceback": [
      "\u001b[0;31m---------------------------------------------------------------------------\u001b[0m",
      "\u001b[0;31mOperationalError\u001b[0m                          Traceback (most recent call last)",
      "\u001b[0;32m<ipython-input-30-73be108c0662>\u001b[0m in \u001b[0;36m<module>\u001b[0;34m\u001b[0m\n\u001b[1;32m      4\u001b[0m \u001b[0mf\u001b[0m \u001b[0;34m=\u001b[0m \u001b[0mio\u001b[0m\u001b[0;34m.\u001b[0m\u001b[0mopen\u001b[0m\u001b[0;34m(\u001b[0m\u001b[0;34m'SQL/Banco_Dota2.sql'\u001b[0m\u001b[0;34m,\u001b[0m \u001b[0;34m'r'\u001b[0m\u001b[0;34m)\u001b[0m\u001b[0;34m\u001b[0m\u001b[0;34m\u001b[0m\u001b[0m\n\u001b[1;32m      5\u001b[0m \u001b[0msql\u001b[0m \u001b[0;34m=\u001b[0m \u001b[0mf\u001b[0m\u001b[0;34m.\u001b[0m\u001b[0mread\u001b[0m\u001b[0;34m(\u001b[0m\u001b[0;34m)\u001b[0m\u001b[0;34m\u001b[0m\u001b[0;34m\u001b[0m\u001b[0m\n\u001b[0;32m----> 6\u001b[0;31m \u001b[0mcursor\u001b[0m\u001b[0;34m.\u001b[0m\u001b[0mexecutescript\u001b[0m\u001b[0;34m(\u001b[0m\u001b[0msql\u001b[0m\u001b[0;34m)\u001b[0m\u001b[0;34m\u001b[0m\u001b[0;34m\u001b[0m\u001b[0m\n\u001b[0m",
      "\u001b[0;31mOperationalError\u001b[0m: table \"xp_reasons\" already exists"
     ]
    }
   ],
   "source": [
    "conn = sqlite3.connect('SQL/ibd_dota2.db')\n",
    "cursor = conn.cursor()\n",
    "\n",
    "f = io.open('SQL/Banco_Dota2.sql', 'r')\n",
    "sql = f.read()\n",
    "cursor.executescript(sql)"
   ]
  },
  {
   "cell_type": "code",
   "execution_count": 3,
   "metadata": {},
   "outputs": [],
   "source": [
    "# Converter os dados do json pra sqlite (criar o banco, as tabelas e inserir os dados)"
   ]
  },
  {
   "cell_type": "markdown",
   "metadata": {},
   "source": [
    "# Inserção dos dados"
   ]
  },
  {
   "cell_type": "code",
   "execution_count": 5,
   "metadata": {},
   "outputs": [],
   "source": [
    "#Dados do lobby_type.json\n",
    "with open('json/lobby_type.json') as lobby_type_json:\n",
    "    lobby_type_data = json.load(lobby_type_json)\n",
    "    for l_id in lobby_type_data:\n",
    "        lobby_type_id = lobby_type_data[l_id]['id']\n",
    "        lobby_type_name = lobby_type_data[l_id]['name']\n",
    "        #print(lobby_type_id,lobby_type_name)\n",
    "    #INSERT \n",
    "\n",
    "#Dados do game_mode.json\n",
    "with open('json/game_mode.json') as game_mode_json:\n",
    "    game_mode_data = json.load(game_mode_json)\n",
    "    for g_id in game_mode_data:\n",
    "        game_mode_id = game_mode_data[g_id]['id']\n",
    "        game_mode_name = game_mode_data[g_id]['name']\n",
    "        #print(game_mode_id,game_mode_name)\n",
    "    #INSERT\n",
    "\n",
    "#Dados do order_types.json\n",
    "with open('json/order_types.json') as order_types_json:\n",
    "    order_types_data = json.load(order_types_json)\n",
    "    for o_id in order_types_data:\n",
    "        order_type_id = o_id\n",
    "        order_type_name = order_types_data[o_id]\n",
    "        #print(order_type_id, order_type_name)\n",
    "    #INSERT\n",
    "\n",
    "#Dados do gold_reasons.json\n",
    "with open('json/gold_reasons.json') as gold_reasons_json:\n",
    "    gold_reasons_data = json.load(gold_reasons_json)\n",
    "    for gold_id in gold_reasons_data:\n",
    "        gold_reasons_id = gold_id\n",
    "        gold_reasons_name = gold_reasons_data[gold_id]['name']\n",
    "        #print(gold_reasons_id,gold_reasons_name)\n",
    "    #INSERT\n",
    "\n",
    "#Dados do xp_reasons.json\n",
    "with open('json/xp_reasons.json') as xp_reasons_json:\n",
    "    xp_reasons_data = json.load(xp_reasons_json)\n",
    "    for x_id in xp_reasons_data:\n",
    "        xp_reasons_id = x_id\n",
    "        xp_reasons_name = xp_reasons_data[x_id]\n",
    "        #print(xp_reasons_id, xp_reasons_name)\n",
    "    #INSERT\n",
    "\n",
    "#Dados do item_ids.json\n",
    "with open('json/item_ids.json') as item_ids_json:\n",
    "    item_ids_data = json.load(item_ids_json)\n",
    "    for i_id in item_ids_data:\n",
    "        item_ids_id = i_id\n",
    "        item_ids_name = item_ids_data[i_id]\n",
    "        #print(item_ids_id, item_ids_name)\n",
    "    #INSERT"
   ]
  },
  {
   "cell_type": "code",
   "execution_count": 8,
   "metadata": {},
   "outputs": [],
   "source": [
    "#match\n",
    "for match in json_data:\n",
    "    match_id                = match['match_id'] # INT CHAVE PRIMARIA\n",
    "    radiant_win             = match['radiant_win'] # BOOL\n",
    "    duration                = match['duration'] # INT\n",
    "    tower_status_radiant    = match['tower_status_radiant'] # INT (binário em decimal)\n",
    "    tower_status_dire       = match['tower_status_dire'] # INT (binário em decimal)\n",
    "    barracks_status_radiant = match['barracks_status_radiant'] # INT (binário em decimal)\n",
    "    barracks_status_dire    = match['barracks_status_dire'] # INT (binário em decimal)\n",
    "    first_blood_time        = match['first_blood_time'] # INT\n",
    "    lobby_type              = match['lobby_type'] # INT CHAVE ESTRANGEIRA\n",
    "    human_players           = match['human_players'] # INT\n",
    "    game_mode               = match['game_mode'] # INT\n",
    "    #print(match_id, radiant_win, duration, tower_status_radiant, tower_status_dire, barracks_status_radiant, \n",
    "    #      barracks_status_dire, first_blood_time, lobby_type, human_players, game_mode)\n",
    "    \n",
    "    # INSERT tudo_isso_em_cima INTO match (SQL)\n",
    "    \n",
    "#chat        \n",
    "    for chat_message in match['chat']:\n",
    "        #chat_id = AUTO_INCREMENT # CHAVE PRIMARIA\n",
    "        chat_match_id = match_id # CHAVE ESTRANGEIRA DE MATCH\n",
    "        time  = chat_message['time']\n",
    "        type_ = chat_message['type']\n",
    "        unit  = chat_message['unit']\n",
    "        key   = chat_message['key']\n",
    "        slot  = chat_message['slot']\n",
    "        #print(chat_match_id, time, type_, unit, key, slot)\n",
    "        \n",
    "        # INSERT tudo_isso_em_cima INTO chat\n",
    "    \n",
    "    for player in match['players']:\n",
    "        player_match_id = match_id # CHAVE ESTRANGEIRA DE MATCH\n",
    "        account_id    = player['account_id'] # if null = bot # CHAVE PRIMARIA\n",
    "        level         = player['level']\n",
    "        hero_healing  = player['hero_healing']\n",
    "        leaver_status = player['leaver_status']\n",
    "        last_hits     = player['last_hits']\n",
    "        denies        = player['denies']\n",
    "        gold_per_min  = player['gold_per_min']\n",
    "        gold_spent    = player['gold_spent']\n",
    "        gold          = player['gold']\n",
    "        xp_per_min    = player['xp_per_min']\n",
    "        hero_id       = player['hero_id']\n",
    "        hero_damage   = player['hero_damage']\n",
    "        tower_damage  = player['tower_damage']\n",
    "        kills         = player['kills']\n",
    "        deaths        = player['deaths']\n",
    "        assists       = player['assists']\n",
    "        item_0        = player['item_0']\n",
    "        item_1        = player['item_1']\n",
    "        item_2        = player['item_2']\n",
    "        item_3        = player['item_3']\n",
    "        item_4        = player['item_4']\n",
    "        item_5        = player['item_5']\n",
    "        #action = nao precisa\n",
    "        #lane_pos = nao precisa\n",
    "        #obs = nao precisa\n",
    "        #sen = nao precisa\n",
    "        \n",
    "        for action in player['actions']:\n",
    "            actions_match_id = match_id # CHAVE ESTRANGEIRA DE MATCH\n",
    "            action_account_id = account_id # CHAVE ESTRANGEIRA DE PLAYER\n",
    "            action_id = action # CHAVE ESTRANGEIRA DO ORDER_TYPES\n",
    "            action_count = player['actions'][action]\n",
    "            #print(actions_match_id, action_account_id, action_id, action_count)\n",
    "            # INSERT tudo_isso_em_cima INTO actions\n",
    "        \n",
    "        for x_coord in player['lane_pos']:\n",
    "            for y_coord in player['lane_pos'][x_coord]:\n",
    "                pos_match_id = match_id\n",
    "                pos_account_id = account_id\n",
    "                x_pos = x_coord\n",
    "                y_pos = y_coord\n",
    "                pos_count = player['lane_pos'][x_coord][y_coord]\n",
    "                #print(pos_match_id, pos_account_id, x_coord, y_coord, player['lane_pos'][x_coord][y_coord])\n",
    "                \n",
    "                # INSERT tudo_isso_em_cima INTO lane_pos\n",
    "        for x_coord in player['obs']:\n",
    "            for y_coord in player['obs'][x_coord]:\n",
    "                obs_match_id  = match_id\n",
    "                obs_account_id = account_id\n",
    "                x_pos         = x_coord\n",
    "                y_pos         = y_coord\n",
    "                obs_count     = player['obs'][x_coord][y_coord]\n",
    "                #print(obs_match_id, obs_account_id, x_pos, y_pos, obs_count)\n",
    "                \n",
    "                # INSERT tudo_isso_em_cima INTO obs\n",
    "        \n",
    "        for x_coord in player['sen']:\n",
    "            for y_coord in player['sen'][x_coord]:\n",
    "                sen_match_id  = match_id\n",
    "                sen_account_id = account_id\n",
    "                x_pos         = x_coord\n",
    "                y_pos         = y_coord\n",
    "                sen_count     = player['sen'][x_coord][y_coord]\n",
    "                #print(sen_match_id, sen_account_id, x_pos, y_pos, sen_count)\n",
    "                \n",
    "                # INSERT tudo_isso_em_cima INTO sen\n",
    "        for player_gold_reasons in player['gold_reasons']:\n",
    "            player_gold_match_id = match_id\n",
    "            player_gold_account_id = account_id\n",
    "            player_gold_id = player_gold_reasons # CHAVE ESTRANGEIRA DO GOLD_REASONS\n",
    "            player_gold_count = player['gold_reasons'][player_gold_id]\n",
    "            #print(player_gold_match_id, player_gold_account_id, player_gold_id, player_gold_count)\n",
    "\n",
    "            # INSERT tudo_isso_em_cima INTO player_gold_reasons\n",
    "        for player_xp_reasons in player['xp_reasons']:\n",
    "            player_xp_match_id = match_id\n",
    "            player_xp_account_id = account_id\n",
    "            player_xp_id = player_xp_reasons # CHAVE ESTRANGEIRA DO XP_REASONS\n",
    "            player_xp_count = player['xp_reasons'][player_xp_reasons]\n",
    "            #print(player_xp_match_id,player_xp_account_id,player_xp_id,player_xp_count)\n",
    "\n",
    "\n",
    "        for player_damage in player['damage']:\n",
    "            player_damage_match_id = match_id\n",
    "            player_damage_account_id = account_id\n",
    "            player_damage_unit = player_damage\n",
    "            player_damage_count = player['damage'][player_damage]\n",
    "            #print(player_damage_match_id,player_damage_account_id,player_damage_unit,player_damage_count)\n",
    "            #insert into player_damage values\n",
    "            \n",
    "        for item_uses in player['item_uses']:\n",
    "            item_uses_match_id = match_id\n",
    "            item_uses_account_id = account_id\n",
    "            item_uses_name = item_uses\n",
    "            item_uses_count = player['item_uses'][item_uses]\n",
    "            #print(item_uses_match_id,item_uses_account_id,item_uses_name,item_uses_count)\n",
    "            #insert"
   ]
  }
 ],
 "metadata": {
  "kernelspec": {
   "display_name": "Python 3",
   "language": "python",
   "name": "python3"
  },
  "language_info": {
   "codemirror_mode": {
    "name": "ipython",
    "version": 3
   },
   "file_extension": ".py",
   "mimetype": "text/x-python",
   "name": "python",
   "nbconvert_exporter": "python",
   "pygments_lexer": "ipython3",
   "version": "3.6.7"
  }
 },
 "nbformat": 4,
 "nbformat_minor": 2
}
